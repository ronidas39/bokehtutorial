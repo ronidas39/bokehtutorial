{
 "cells": [
  {
   "cell_type": "markdown",
   "metadata": {},
   "source": [
    "# tutorial 8, bokeh plot outline styling "
   ]
  },
  {
   "cell_type": "code",
   "execution_count": 1,
   "metadata": {},
   "outputs": [],
   "source": [
    "from bokeh.plotting import figure,show,output_file"
   ]
  },
  {
   "cell_type": "code",
   "execution_count": 2,
   "metadata": {},
   "outputs": [],
   "source": [
    "#without outline style\n",
    "test_plot=figure()\n",
    "output_file(\"tutorial8.html\")\n",
    "test_plot.line([2,3,4,5],[10,20,30,40],line_color=\"red\")\n",
    "show(test_plot)"
   ]
  },
  {
   "cell_type": "code",
   "execution_count": 4,
   "metadata": {},
   "outputs": [],
   "source": [
    "#with outline style\n",
    "test_plot=figure()\n",
    "output_file(\"tutorial8.html\")\n",
    "test_plot.line([2,3,4,5],[10,20,30,40],line_color=\"red\")\n",
    "test_plot.outline_line_color=\"blue\"\n",
    "test_plot.outline_line_width=8\n",
    "show(test_plot)"
   ]
  },
  {
   "cell_type": "code",
   "execution_count": null,
   "metadata": {},
   "outputs": [],
   "source": []
  }
 ],
 "metadata": {
  "kernelspec": {
   "display_name": "Python 3",
   "language": "python",
   "name": "python3"
  },
  "language_info": {
   "codemirror_mode": {
    "name": "ipython",
    "version": 3
   },
   "file_extension": ".py",
   "mimetype": "text/x-python",
   "name": "python",
   "nbconvert_exporter": "python",
   "pygments_lexer": "ipython3",
   "version": "3.7.6"
  }
 },
 "nbformat": 4,
 "nbformat_minor": 4
}

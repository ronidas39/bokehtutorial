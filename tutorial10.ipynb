{
 "cells": [
  {
   "cell_type": "markdown",
   "metadata": {},
   "source": [
    "# tutorial 10,bokeh plot axes styling"
   ]
  },
  {
   "cell_type": "code",
   "execution_count": 9,
   "metadata": {},
   "outputs": [],
   "source": [
    "from bokeh.plotting import figure,show,output_file"
   ]
  },
  {
   "cell_type": "code",
   "execution_count": 10,
   "metadata": {},
   "outputs": [],
   "source": [
    "#plot without axes style\n",
    "test_plot=figure()\n",
    "output_file(\"tutorial10.html\")\n",
    "test_plot.xaxis.axis_label=\"x_axis\"\n",
    "test_plot.yaxis.axis_label=\"y_axis\"\n",
    "test_plot.line([2,3,4,5],[10,20,30,40],line_color=\"red\")\n",
    "show(test_plot)"
   ]
  },
  {
   "cell_type": "code",
   "execution_count": 26,
   "metadata": {},
   "outputs": [],
   "source": [
    "#plot with axes styling\n",
    "test_plot=figure()\n",
    "output_file(\"tutorial10.html\")\n",
    "test_plot.xaxis.axis_label=\"x_axis\"\n",
    "test_plot.yaxis.axis_label=\"y_axis\"\n",
    "test_plot.line([2,3,4,5],[10,20,30,40],line_color=\"red\")\n",
    "#x axis\n",
    "test_plot.xaxis.axis_label_text_color=\"green\"\n",
    "test_plot.xaxis.axis_line_color=\"green\"\n",
    "test_plot.xaxis.axis_line_width=4\n",
    "test_plot.xaxis.major_label_text_color=\"blue\"\n",
    "test_plot.xaxis.major_label_text_font_size=\"20pt\"\n",
    "test_plot.xaxis.axis_label_text_font_size=\"20pt\"\n",
    "test_plot.xaxis.axis_label_standoff=10\n",
    "#y axis\n",
    "test_plot.yaxis.axis_label_text_color=\"yellow\"\n",
    "test_plot.yaxis.axis_line_color=\"yellow\"\n",
    "test_plot.yaxis.axis_line_width=4\n",
    "test_plot.yaxis.major_label_text_color=\"orange\"\n",
    "test_plot.yaxis.major_label_text_font_size=\"20pt\"\n",
    "test_plot.yaxis.axis_label_text_font_size=\"20pt\"\n",
    "test_plot.yaxis.axis_label_standoff=15\n",
    "show(test_plot)\n"
   ]
  },
  {
   "cell_type": "code",
   "execution_count": null,
   "metadata": {},
   "outputs": [],
   "source": []
  }
 ],
 "metadata": {
  "kernelspec": {
   "display_name": "Python 3",
   "language": "python",
   "name": "python3"
  },
  "language_info": {
   "codemirror_mode": {
    "name": "ipython",
    "version": 3
   },
   "file_extension": ".py",
   "mimetype": "text/x-python",
   "name": "python",
   "nbconvert_exporter": "python",
   "pygments_lexer": "ipython3",
   "version": "3.7.6"
  }
 },
 "nbformat": 4,
 "nbformat_minor": 4
}

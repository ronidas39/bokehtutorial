{
 "cells": [
  {
   "cell_type": "markdown",
   "metadata": {},
   "source": [
    "# tutorial 7,border styling in bokeh plot"
   ]
  },
  {
   "cell_type": "code",
   "execution_count": 2,
   "metadata": {},
   "outputs": [],
   "source": [
    "from bokeh.plotting import figure,show,output_file"
   ]
  },
  {
   "cell_type": "code",
   "execution_count": 2,
   "metadata": {},
   "outputs": [],
   "source": [
    "#without border style\n",
    "test_plot=figure()\n",
    "output_file(\"tutorial7.html\")\n",
    "test_plot.line([2,4,6,8],[10,20,40,50],line_color=\"green\")\n",
    "show(test_plot)"
   ]
  },
  {
   "cell_type": "code",
   "execution_count": 18,
   "metadata": {},
   "outputs": [],
   "source": [
    "#with border style\n",
    "test_plot=figure()\n",
    "output_file(\"tutorial7.html\")\n",
    "test_plot.border_fill_color=\"skyblue\"\n",
    "test_plot.min_border_left=70\n",
    "test_plot.min_border_right=70\n",
    "test_plot.min_border_top=40\n",
    "test_plot.min_border_bottom=40\n",
    "test_plot.line([2,4,6,8],[10,20,40,50],line_color=\"green\")\n",
    "show(test_plot)"
   ]
  },
  {
   "cell_type": "code",
   "execution_count": null,
   "metadata": {},
   "outputs": [],
   "source": []
  }
 ],
 "metadata": {
  "kernelspec": {
   "display_name": "Python 3",
   "language": "python",
   "name": "python3"
  },
  "language_info": {
   "codemirror_mode": {
    "name": "ipython",
    "version": 3
   },
   "file_extension": ".py",
   "mimetype": "text/x-python",
   "name": "python",
   "nbconvert_exporter": "python",
   "pygments_lexer": "ipython3",
   "version": "3.7.6"
  }
 },
 "nbformat": 4,
 "nbformat_minor": 4
}

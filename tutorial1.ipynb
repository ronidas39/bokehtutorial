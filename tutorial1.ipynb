{
 "cells": [
  {
   "cell_type": "markdown",
   "metadata": {},
   "source": [
    "# introduction to bokeh"
   ]
  },
  {
   "cell_type": "code",
   "execution_count": 27,
   "metadata": {},
   "outputs": [
    {
     "name": "stdout",
     "output_type": "stream",
     "text": [
      "Collecting bokeh\n",
      "  Using cached https://files.pythonhosted.org/packages/bf/31/d71381ac3a5b822d1d83437e9bca3d7429319c62be1c42e98a9bc7b90d19/bokeh-2.2.0.tar.gz\n",
      "Requirement already satisfied: PyYAML>=3.10 in /Library/Frameworks/Python.framework/Versions/3.7/lib/python3.7/site-packages (from bokeh) (5.3.1)\n",
      "Requirement already satisfied: python-dateutil>=2.1 in /Library/Frameworks/Python.framework/Versions/3.7/lib/python3.7/site-packages (from bokeh) (2.8.1)\n",
      "Requirement already satisfied: Jinja2>=2.7 in /Library/Frameworks/Python.framework/Versions/3.7/lib/python3.7/site-packages (from bokeh) (2.11.2)\n",
      "Requirement already satisfied: numpy>=1.11.3 in /Library/Frameworks/Python.framework/Versions/3.7/lib/python3.7/site-packages (from bokeh) (1.19.0)\n",
      "Requirement already satisfied: pillow>=7.1.0 in /Library/Frameworks/Python.framework/Versions/3.7/lib/python3.7/site-packages (from bokeh) (7.1.2)\n",
      "Requirement already satisfied: packaging>=16.8 in /Library/Frameworks/Python.framework/Versions/3.7/lib/python3.7/site-packages (from bokeh) (20.4)\n",
      "Requirement already satisfied: tornado>=5.1 in /Library/Frameworks/Python.framework/Versions/3.7/lib/python3.7/site-packages (from bokeh) (6.0.4)\n",
      "Requirement already satisfied: typing_extensions>=3.7.4 in /Library/Frameworks/Python.framework/Versions/3.7/lib/python3.7/site-packages (from bokeh) (3.7.4.3)\n",
      "Requirement already satisfied: six>=1.5 in /Library/Frameworks/Python.framework/Versions/3.7/lib/python3.7/site-packages (from python-dateutil>=2.1->bokeh) (1.15.0)\n",
      "Requirement already satisfied: MarkupSafe>=0.23 in /Library/Frameworks/Python.framework/Versions/3.7/lib/python3.7/site-packages (from Jinja2>=2.7->bokeh) (1.1.1)\n",
      "Requirement already satisfied: pyparsing>=2.0.2 in /Library/Frameworks/Python.framework/Versions/3.7/lib/python3.7/site-packages (from packaging>=16.8->bokeh) (2.4.7)\n",
      "Installing collected packages: bokeh\n",
      "  Running setup.py install for bokeh ... \u001b[?25ldone\n",
      "\u001b[?25hSuccessfully installed bokeh-2.2.0\n",
      "\u001b[33mWARNING: You are using pip version 19.2.3, however version 20.2.2 is available.\n",
      "You should consider upgrading via the 'pip install --upgrade pip' command.\u001b[0m\n"
     ]
    }
   ],
   "source": [
    "!pip3 install bokeh"
   ]
  },
  {
   "cell_type": "code",
   "execution_count": 29,
   "metadata": {},
   "outputs": [],
   "source": [
    "from bokeh.plotting import figure,output_file,show\n",
    "import numpy as np"
   ]
  },
  {
   "cell_type": "code",
   "execution_count": 30,
   "metadata": {},
   "outputs": [],
   "source": [
    "a=np.arange(0,100,2)\n",
    "b=np.arange(100,200,2)"
   ]
  },
  {
   "cell_type": "code",
   "execution_count": 37,
   "metadata": {},
   "outputs": [
    {
     "data": {
      "text/html": [
       "\n",
       "\n",
       "\n",
       "\n",
       "\n",
       "\n",
       "  <div class=\"bk-root\" id=\"a28a31e4-35a8-425a-aaad-68c340ee87a0\" data-root-id=\"3206\"></div>\n"
      ]
     },
     "metadata": {},
     "output_type": "display_data"
    },
    {
     "data": {
      "application/javascript": [
       "(function(root) {\n",
       "  function embed_document(root) {\n",
       "    \n",
       "  var docs_json = {\"9421cc50-2d09-40f7-8eac-cc9d051d9c59\":{\"roots\":{\"references\":[{\"attributes\":{\"below\":[{\"id\":\"3217\",\"type\":\"LinearAxis\"}],\"center\":[{\"id\":\"3221\",\"type\":\"Grid\"},{\"id\":\"3226\",\"type\":\"Grid\"},{\"id\":\"3251\",\"type\":\"Legend\"}],\"left\":[{\"id\":\"3222\",\"type\":\"LinearAxis\"}],\"renderers\":[{\"id\":\"3243\",\"type\":\"GlyphRenderer\"}],\"title\":{\"id\":\"3207\",\"type\":\"Title\"},\"toolbar\":{\"id\":\"3233\",\"type\":\"Toolbar\"},\"x_range\":{\"id\":\"3209\",\"type\":\"DataRange1d\"},\"x_scale\":{\"id\":\"3213\",\"type\":\"LinearScale\"},\"y_range\":{\"id\":\"3211\",\"type\":\"DataRange1d\"},\"y_scale\":{\"id\":\"3215\",\"type\":\"LinearScale\"}},\"id\":\"3206\",\"subtype\":\"Figure\",\"type\":\"Plot\"},{\"attributes\":{},\"id\":\"3247\",\"type\":\"BasicTickFormatter\"},{\"attributes\":{},\"id\":\"3344\",\"type\":\"UnionRenderers\"},{\"attributes\":{\"overlay\":{\"id\":\"3250\",\"type\":\"BoxAnnotation\"}},\"id\":\"3229\",\"type\":\"BoxZoomTool\"},{\"attributes\":{\"axis_label\":\"time\",\"formatter\":{\"id\":\"3249\",\"type\":\"BasicTickFormatter\"},\"ticker\":{\"id\":\"3218\",\"type\":\"BasicTicker\"}},\"id\":\"3217\",\"type\":\"LinearAxis\"},{\"attributes\":{\"ticker\":{\"id\":\"3218\",\"type\":\"BasicTicker\"}},\"id\":\"3221\",\"type\":\"Grid\"},{\"attributes\":{},\"id\":\"3223\",\"type\":\"BasicTicker\"},{\"attributes\":{\"active_drag\":\"auto\",\"active_inspect\":\"auto\",\"active_multi\":null,\"active_scroll\":\"auto\",\"active_tap\":\"auto\",\"tools\":[{\"id\":\"3227\",\"type\":\"PanTool\"},{\"id\":\"3228\",\"type\":\"WheelZoomTool\"},{\"id\":\"3229\",\"type\":\"BoxZoomTool\"},{\"id\":\"3230\",\"type\":\"SaveTool\"},{\"id\":\"3231\",\"type\":\"ResetTool\"},{\"id\":\"3232\",\"type\":\"HelpTool\"}]},\"id\":\"3233\",\"type\":\"Toolbar\"},{\"attributes\":{},\"id\":\"3218\",\"type\":\"BasicTicker\"},{\"attributes\":{},\"id\":\"3227\",\"type\":\"PanTool\"},{\"attributes\":{\"data_source\":{\"id\":\"3240\",\"type\":\"ColumnDataSource\"},\"glyph\":{\"id\":\"3241\",\"type\":\"Line\"},\"hover_glyph\":null,\"muted_glyph\":null,\"nonselection_glyph\":{\"id\":\"3242\",\"type\":\"Line\"},\"selection_glyph\":null,\"view\":{\"id\":\"3244\",\"type\":\"CDSView\"}},\"id\":\"3243\",\"type\":\"GlyphRenderer\"},{\"attributes\":{\"callback\":null,\"data\":{\"x\":[0,2,4,6,8,10,12,14,16,18,20,22,24,26,28,30,32,34,36,38,40,42,44,46,48,50,52,54,56,58,60,62,64,66,68,70,72,74,76,78,80,82,84,86,88,90,92,94,96,98],\"y\":[100,102,104,106,108,110,112,114,116,118,120,122,124,126,128,130,132,134,136,138,140,142,144,146,148,150,152,154,156,158,160,162,164,166,168,170,172,174,176,178,180,182,184,186,188,190,192,194,196,198]},\"selected\":{\"id\":\"3345\",\"type\":\"Selection\"},\"selection_policy\":{\"id\":\"3344\",\"type\":\"UnionRenderers\"}},\"id\":\"3240\",\"type\":\"ColumnDataSource\"},{\"attributes\":{},\"id\":\"3231\",\"type\":\"ResetTool\"},{\"attributes\":{},\"id\":\"3213\",\"type\":\"LinearScale\"},{\"attributes\":{\"callback\":null},\"id\":\"3209\",\"type\":\"DataRange1d\"},{\"attributes\":{\"source\":{\"id\":\"3240\",\"type\":\"ColumnDataSource\"}},\"id\":\"3244\",\"type\":\"CDSView\"},{\"attributes\":{\"axis_label\":\"temp\",\"formatter\":{\"id\":\"3247\",\"type\":\"BasicTickFormatter\"},\"ticker\":{\"id\":\"3223\",\"type\":\"BasicTicker\"}},\"id\":\"3222\",\"type\":\"LinearAxis\"},{\"attributes\":{\"dimension\":1,\"ticker\":{\"id\":\"3223\",\"type\":\"BasicTicker\"}},\"id\":\"3226\",\"type\":\"Grid\"},{\"attributes\":{\"items\":[{\"id\":\"3252\",\"type\":\"LegendItem\"}]},\"id\":\"3251\",\"type\":\"Legend\"},{\"attributes\":{\"line_color\":\"#1f77b4\",\"x\":{\"field\":\"x\"},\"y\":{\"field\":\"y\"}},\"id\":\"3241\",\"type\":\"Line\"},{\"attributes\":{},\"id\":\"3249\",\"type\":\"BasicTickFormatter\"},{\"attributes\":{},\"id\":\"3215\",\"type\":\"LinearScale\"},{\"attributes\":{\"bottom_units\":\"screen\",\"fill_alpha\":{\"value\":0.5},\"fill_color\":{\"value\":\"lightgrey\"},\"left_units\":\"screen\",\"level\":\"overlay\",\"line_alpha\":{\"value\":1.0},\"line_color\":{\"value\":\"black\"},\"line_dash\":[4,4],\"line_width\":{\"value\":2},\"render_mode\":\"css\",\"right_units\":\"screen\",\"top_units\":\"screen\"},\"id\":\"3250\",\"type\":\"BoxAnnotation\"},{\"attributes\":{\"text\":\"sample_plot\"},\"id\":\"3207\",\"type\":\"Title\"},{\"attributes\":{\"label\":{\"value\":\"temp\"},\"renderers\":[{\"id\":\"3243\",\"type\":\"GlyphRenderer\"}]},\"id\":\"3252\",\"type\":\"LegendItem\"},{\"attributes\":{},\"id\":\"3230\",\"type\":\"SaveTool\"},{\"attributes\":{\"callback\":null},\"id\":\"3211\",\"type\":\"DataRange1d\"},{\"attributes\":{},\"id\":\"3228\",\"type\":\"WheelZoomTool\"},{\"attributes\":{\"line_alpha\":0.1,\"line_color\":\"#1f77b4\",\"x\":{\"field\":\"x\"},\"y\":{\"field\":\"y\"}},\"id\":\"3242\",\"type\":\"Line\"},{\"attributes\":{},\"id\":\"3345\",\"type\":\"Selection\"},{\"attributes\":{},\"id\":\"3232\",\"type\":\"HelpTool\"}],\"root_ids\":[\"3206\"]},\"title\":\"Bokeh Application\",\"version\":\"1.4.0\"}};\n",
       "  var render_items = [{\"docid\":\"9421cc50-2d09-40f7-8eac-cc9d051d9c59\",\"roots\":{\"3206\":\"a28a31e4-35a8-425a-aaad-68c340ee87a0\"}}];\n",
       "  root.Bokeh.embed.embed_items_notebook(docs_json, render_items);\n",
       "\n",
       "  }\n",
       "  if (root.Bokeh !== undefined) {\n",
       "    embed_document(root);\n",
       "  } else {\n",
       "    var attempts = 0;\n",
       "    var timer = setInterval(function(root) {\n",
       "      if (root.Bokeh !== undefined) {\n",
       "        clearInterval(timer);\n",
       "        embed_document(root);\n",
       "      } else {\n",
       "        attempts++;\n",
       "        if (attempts > 100) {\n",
       "          clearInterval(timer);\n",
       "          console.log(\"Bokeh: ERROR: Unable to run BokehJS code because BokehJS library is missing\");\n",
       "        }\n",
       "      }\n",
       "    }, 10, root)\n",
       "  }\n",
       "})(window);"
      ],
      "application/vnd.bokehjs_exec.v0+json": ""
     },
     "metadata": {
      "application/vnd.bokehjs_exec.v0+json": {
       "id": "3206"
      }
     },
     "output_type": "display_data"
    }
   ],
   "source": [
    "sample_plot=figure(title=\"sample_plot\",x_axis_label=\"time\",y_axis_label=\"temp\")\n",
    "sample_plot.line(a,b,legend_label=\"temp\")\n",
    "output_file(\"tutorial1.html\")\n",
    "show(sample_plot)"
   ]
  },
  {
   "cell_type": "code",
   "execution_count": null,
   "metadata": {},
   "outputs": [],
   "source": []
  },
  {
   "cell_type": "code",
   "execution_count": null,
   "metadata": {},
   "outputs": [],
   "source": []
  },
  {
   "cell_type": "code",
   "execution_count": null,
   "metadata": {},
   "outputs": [],
   "source": []
  }
 ],
 "metadata": {
  "kernelspec": {
   "display_name": "Python 3",
   "language": "python",
   "name": "python3"
  },
  "language_info": {
   "codemirror_mode": {
    "name": "ipython",
    "version": 3
   },
   "file_extension": ".py",
   "mimetype": "text/x-python",
   "name": "python",
   "nbconvert_exporter": "python",
   "pygments_lexer": "ipython3",
   "version": "3.7.6"
  }
 },
 "nbformat": 4,
 "nbformat_minor": 4
}
